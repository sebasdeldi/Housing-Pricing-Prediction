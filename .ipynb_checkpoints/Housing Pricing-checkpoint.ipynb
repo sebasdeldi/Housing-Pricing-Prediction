{
 "cells": [
  {
   "cell_type": "markdown",
   "metadata": {},
   "source": [
    "# Housing Pricing Prediction"
   ]
  },
  {
   "cell_type": "markdown",
   "metadata": {},
   "source": [
    "Suppose you are selling your house and you\n",
    "want to know what a good market price would be. One way to do this is to\n",
    "first collect information on recent houses sold and make a model of housing\n",
    "prices.\n",
    "The file ex1data2.txt contains a training set of housing prices in Port-\n",
    "land, Oregon. The first column is the size of the house (in square feet), the\n",
    "second column is the number of bedrooms, and the third column is the price\n",
    "of the house."
   ]
  },
  {
   "cell_type": "code",
   "execution_count": 1,
   "metadata": {},
   "outputs": [],
   "source": [
    "import pandas as pd\n",
    "import numpy as np\n",
    "import matplotlib.pyplot as plt\n",
    "from sklearn.linear_model import LinearRegression\n",
    "from sklearn.model_selection import train_test_split "
   ]
  },
  {
   "cell_type": "code",
   "execution_count": 2,
   "metadata": {},
   "outputs": [
    {
     "data": {
      "text/html": [
       "<div>\n",
       "<style scoped>\n",
       "    .dataframe tbody tr th:only-of-type {\n",
       "        vertical-align: middle;\n",
       "    }\n",
       "\n",
       "    .dataframe tbody tr th {\n",
       "        vertical-align: top;\n",
       "    }\n",
       "\n",
       "    .dataframe thead th {\n",
       "        text-align: right;\n",
       "    }\n",
       "</style>\n",
       "<table border=\"1\" class=\"dataframe\">\n",
       "  <thead>\n",
       "    <tr style=\"text-align: right;\">\n",
       "      <th></th>\n",
       "      <th>size</th>\n",
       "      <th># bedrooms</th>\n",
       "      <th>price</th>\n",
       "    </tr>\n",
       "  </thead>\n",
       "  <tbody>\n",
       "    <tr>\n",
       "      <th>0</th>\n",
       "      <td>2104</td>\n",
       "      <td>3</td>\n",
       "      <td>399900</td>\n",
       "    </tr>\n",
       "    <tr>\n",
       "      <th>1</th>\n",
       "      <td>1600</td>\n",
       "      <td>3</td>\n",
       "      <td>329900</td>\n",
       "    </tr>\n",
       "    <tr>\n",
       "      <th>2</th>\n",
       "      <td>2400</td>\n",
       "      <td>3</td>\n",
       "      <td>369000</td>\n",
       "    </tr>\n",
       "    <tr>\n",
       "      <th>3</th>\n",
       "      <td>1416</td>\n",
       "      <td>2</td>\n",
       "      <td>232000</td>\n",
       "    </tr>\n",
       "    <tr>\n",
       "      <th>4</th>\n",
       "      <td>3000</td>\n",
       "      <td>4</td>\n",
       "      <td>539900</td>\n",
       "    </tr>\n",
       "  </tbody>\n",
       "</table>\n",
       "</div>"
      ],
      "text/plain": [
       "   size  # bedrooms   price\n",
       "0  2104           3  399900\n",
       "1  1600           3  329900\n",
       "2  2400           3  369000\n",
       "3  1416           2  232000\n",
       "4  3000           4  539900"
      ]
     },
     "execution_count": 2,
     "metadata": {},
     "output_type": "execute_result"
    }
   ],
   "source": [
    "df = pd.read_csv('ex1data2.txt', sep=\",\", header=None)\n",
    "df.rename(columns={0: 'size', 1: '# bedrooms', 2: 'price'}, inplace=True)\n",
    "df.head()"
   ]
  },
  {
   "cell_type": "markdown",
   "metadata": {},
   "source": [
    "Note that the house sizes (first colums in X) are about 1000 times the number of bedrooms (second column in X). The feature_normalize() normalizes the input features and set then to zero mean."
   ]
  },
  {
   "cell_type": "code",
   "execution_count": 3,
   "metadata": {},
   "outputs": [],
   "source": [
    "def feature_normalize(X):\n",
    "    return (X - X.mean()) / (X[X.idxmax()] - X[X.idxmin()])"
   ]
  },
  {
   "cell_type": "code",
   "execution_count": 8,
   "metadata": {},
   "outputs": [],
   "source": [
    "df['normalized_size'] = feature_normalize(df['size'])\n",
    "df['normalized_rooms'] = feature_normalize(df['# bedrooms'])"
   ]
  },
  {
   "cell_type": "code",
   "execution_count": 10,
   "metadata": {},
   "outputs": [
    {
     "data": {
      "text/html": [
       "<div>\n",
       "<style scoped>\n",
       "    .dataframe tbody tr th:only-of-type {\n",
       "        vertical-align: middle;\n",
       "    }\n",
       "\n",
       "    .dataframe tbody tr th {\n",
       "        vertical-align: top;\n",
       "    }\n",
       "\n",
       "    .dataframe thead th {\n",
       "        text-align: right;\n",
       "    }\n",
       "</style>\n",
       "<table border=\"1\" class=\"dataframe\">\n",
       "  <thead>\n",
       "    <tr style=\"text-align: right;\">\n",
       "      <th></th>\n",
       "      <th>size</th>\n",
       "      <th># bedrooms</th>\n",
       "      <th>price</th>\n",
       "      <th>normalized_size</th>\n",
       "      <th>normalized_rooms</th>\n",
       "    </tr>\n",
       "  </thead>\n",
       "  <tbody>\n",
       "    <tr>\n",
       "      <th>0</th>\n",
       "      <td>2104</td>\n",
       "      <td>3</td>\n",
       "      <td>399900</td>\n",
       "      <td>0.028494</td>\n",
       "      <td>-0.042553</td>\n",
       "    </tr>\n",
       "    <tr>\n",
       "      <th>1</th>\n",
       "      <td>1600</td>\n",
       "      <td>3</td>\n",
       "      <td>329900</td>\n",
       "      <td>-0.110502</td>\n",
       "      <td>-0.042553</td>\n",
       "    </tr>\n",
       "    <tr>\n",
       "      <th>2</th>\n",
       "      <td>2400</td>\n",
       "      <td>3</td>\n",
       "      <td>369000</td>\n",
       "      <td>0.110127</td>\n",
       "      <td>-0.042553</td>\n",
       "    </tr>\n",
       "    <tr>\n",
       "      <th>3</th>\n",
       "      <td>1416</td>\n",
       "      <td>2</td>\n",
       "      <td>232000</td>\n",
       "      <td>-0.161247</td>\n",
       "      <td>-0.292553</td>\n",
       "    </tr>\n",
       "    <tr>\n",
       "      <th>4</th>\n",
       "      <td>3000</td>\n",
       "      <td>4</td>\n",
       "      <td>539900</td>\n",
       "      <td>0.275598</td>\n",
       "      <td>0.207447</td>\n",
       "    </tr>\n",
       "  </tbody>\n",
       "</table>\n",
       "</div>"
      ],
      "text/plain": [
       "   size  # bedrooms   price  normalized_size  normalized_rooms\n",
       "0  2104           3  399900         0.028494         -0.042553\n",
       "1  1600           3  329900        -0.110502         -0.042553\n",
       "2  2400           3  369000         0.110127         -0.042553\n",
       "3  1416           2  232000        -0.161247         -0.292553\n",
       "4  3000           4  539900         0.275598          0.207447"
      ]
     },
     "execution_count": 10,
     "metadata": {},
     "output_type": "execute_result"
    }
   ],
   "source": [
    "df.head()"
   ]
  },
  {
   "cell_type": "code",
   "execution_count": 40,
   "metadata": {},
   "outputs": [],
   "source": [
    "# Gradient descent settings\n",
    "iterations = 500\n",
    "alpha = 0.1\n",
    "theta = np.zeros(3)\n",
    "y = np.array(df['price'])\n",
    "X = df[['normalized_size', 'normalized_rooms']].values\n",
    "ones = np.ones(len(X)).reshape(len(X), 1)\n",
    "X = np.hstack((ones, X))"
   ]
  },
  {
   "cell_type": "code",
   "execution_count": 41,
   "metadata": {},
   "outputs": [],
   "source": [
    "# Compute the square error\n",
    "def compute_square_error(X, y, theta):\n",
    "    J = (1/(2*len(X))) * (sum((X.dot(theta) - y)**2)) #Vectorized form of the square error formula\n",
    "    return J"
   ]
  },
  {
   "cell_type": "code",
   "execution_count": null,
   "metadata": {},
   "outputs": [],
   "source": [
    " # Gradient Descent Implementation\n",
    "def gradient_descent(theta, alpha, X, y, iterations):\n",
    "    m = len(X)\n",
    "    J_history = np.zeros(iterations)\n",
    "    for i in range(iterations):\n",
    "        theta -= alpha / m * ((X.dot(theta) - y).T.dot(X)) # Vectorized form of the gradient descent formula\n",
    "        J_history[i] = compute_square_error(X, y, theta)\n",
    "    return theta\n"
   ]
  }
 ],
 "metadata": {
  "kernelspec": {
   "display_name": "Python 3",
   "language": "python",
   "name": "python3"
  },
  "language_info": {
   "codemirror_mode": {
    "name": "ipython",
    "version": 3
   },
   "file_extension": ".py",
   "mimetype": "text/x-python",
   "name": "python",
   "nbconvert_exporter": "python",
   "pygments_lexer": "ipython3",
   "version": "3.7.1"
  }
 },
 "nbformat": 4,
 "nbformat_minor": 2
}
